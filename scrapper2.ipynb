{
 "cells": [
  {
   "cell_type": "code",
   "execution_count": 2,
   "metadata": {},
   "outputs": [],
   "source": [
    "import time\n",
    "import pandas as pd\n",
    "import plotly.express as px\n",
    "from selenium import webdriver\n",
    "from selenium.webdriver.common.by import By\n",
    "from selenium.webdriver.chrome.service import Service\n",
    "from webdriver_manager.chrome import ChromeDriverManager"
   ]
  },
  {
   "cell_type": "code",
   "execution_count": 3,
   "metadata": {},
   "outputs": [],
   "source": [
    "# Setup Chrome WebDriver\n",
    "service = Service(ChromeDriverManager().install())\n",
    "driver = webdriver.Chrome(service=service)"
   ]
  },
  {
   "cell_type": "code",
   "execution_count": 4,
   "metadata": {},
   "outputs": [],
   "source": [
    "# Open the Livemint World News page\n",
    "driver.get('https://www.livemint.com/news/world')"
   ]
  },
  {
   "cell_type": "code",
   "execution_count": 5,
   "metadata": {},
   "outputs": [],
   "source": [
    "# Allow the page to load\n",
    "time.sleep(10)  # Adjust this if necessary"
   ]
  },
  {
   "cell_type": "code",
   "execution_count": 6,
   "metadata": {},
   "outputs": [],
   "source": [
    "# Scrape article titles and links\n",
    "articles = []\n",
    "try:\n",
    "    article_elements = driver.find_elements(By.CSS_SELECTOR, 'div.listView h2 a')\n",
    "    for article in article_elements:\n",
    "        title = article.text\n",
    "        link = article.get_attribute('href')\n",
    "        if title and link:\n",
    "            articles.append({'Title': title, 'Link': link})\n",
    "\n",
    "    # Close the browser\n",
    "    driver.quit()\n",
    "except Exception as e:\n",
    "    print(f\"An error occurred: {e}\")\n",
    "    driver.quit()"
   ]
  },
  {
   "cell_type": "code",
   "execution_count": 7,
   "metadata": {},
   "outputs": [
    {
     "name": "stdout",
     "output_type": "stream",
     "text": [
      "[{'Title': '‘India ready to offer support’: PM Modi on landslide tragedy in Papua New Guinea', 'Link': 'https://www.livemint.com/news/world/pm-modi-extends-condolences-for-lives-lost-in-papua-new-guinea-landslides-injured-india-support-enga-province-11716867796539.html'}, {'Title': 'Israel-Gaza war: UN Security Council convenes emergency meet after Rafah strike', 'Link': 'https://www.livemint.com/news/world/israel-gaza-war-un-security-council-to-hold-emergency-meeting-rafah-strike-benjamin-netanyahu-criticism-hamas-11716864277978.html'}, {'Title': \"Netanyahu calls Israeli strike in Rafah a 'tragic mistake' that killed 45 people\", 'Link': 'https://www.livemint.com/news/world/israel-gaza-war-benjamin-netanyahu-calls-israeli-strike-in-rafah-a-tragic-mistake-that-killed-45-people-11716859889495.html'}, {'Title': 'North Korea Rocket Explodes in Flight and Deals Blow to Kim’s Satellite Plans', 'Link': 'https://www.livemint.com/news/world/north-korea-rocket-explodes-in-flight-and-deals-blow-to-kim-s-satellite-plans-11716858375334.html'}, {'Title': 'ABN Amro Buys German Bank Hauck & Aufhäuser From China’s Fosun', 'Link': 'https://www.livemint.com/news/world/abn-amro-buys-german-bank-hauck-aufh-user-from-china-s-fosun-11716858135078.html'}, {'Title': \"Russia will build Central Asia's first nuclear power plant in an agreement with Uzbekistan\", 'Link': 'https://www.livemint.com/news/world/russia-will-build-central-asia-s-first-nuclear-power-plant-in-an-agreement-with-uzbekistan-11716856493163.html'}, {'Title': 'China’s Falling Emissions Signal Peak Carbon May Already Be Here', 'Link': 'https://www.livemint.com/news/world/chinas-falling-emissions-signal-peak-carbon-may-already-be-here-11716855887534.html'}, {'Title': 'Crypto Traders Eye Ether Record, Rising Volatility From US ETF Hype', 'Link': 'https://www.livemint.com/news/world/crypto-traders-eye-ether-record-rising-volatility-from-us-etf-hype-11716854978601.html'}, {'Title': 'Trump’s Historic Closing Arguments Will Be a ‘Tale of Two Cases’', 'Link': 'https://www.livemint.com/news/world/trumps-historic-closing-arguments-will-be-a-tale-of-two-cases-11716834630470.html'}, {'Title': 'Israel Airstrike and Death of Egyptian Guard Ratchet Up Tensions', 'Link': 'https://www.livemint.com/news/world/israel-airstrike-and-death-of-egyptian-guard-ratchet-up-tensions-11716833596272.html'}, {'Title': \"Pakistan: Fire guts Khyber Pakhtunkhwa girls' high school, 1400 students rescued\", 'Link': 'https://www.livemint.com/news/world/pakistan-news-fire-guts-khyber-pakhtunkhwa-girls-high-school-over-1400-students-rescued-11716830074860.html'}, {'Title': 'Russia to lift ban on Taliban, Lavrov says they are ‘real power’ in Afghanistan', 'Link': 'https://www.livemint.com/news/world/russia-to-lift-ban-on-taliban-sergei-lavrov-says-they-are-real-power-in-afghanistan-11716824039845.html'}, {'Title': \"Japan issues 'stay indoors' warning after missile 'fired', North Korea clarifies\", 'Link': 'https://www.livemint.com/news/world/stay-indoors-or-find-shelter-japan-asks-okhinawa-residents-after-north-korea-fires-ballistic-missile-into-sea-11716823137156.html'}, {'Title': \"‘Outraged’: France's Emmanuel Macron slams Israel over attack on Rafah\", 'Link': 'https://www.livemint.com/news/world/israel-air-strikes-rafah-france-emmanuel-macron-palestinian-civilians-tented-camp-death-toll-11716811265603.html'}, {'Title': 'Papua New Guinea says more than 2,000 people buried in landslide', 'Link': 'https://www.livemint.com/news/world/papua-new-guinea-government-says-fridays-landslide-buried-2-000-people-and-formally-asks-for-help-11716790640501.html'}, {'Title': 'Prince Harry and Meghan Markle forge ‘closer ties’ with two royal family members', 'Link': 'https://www.livemint.com/news/world/prince-harry-meghan-markle-princess-beatrice-eugenie-royal-family-members-kate-middleton-uk-british-royal-family-11716776136136.html'}, {'Title': 'Officials to review Maldives community projects funded by Indian grants', 'Link': 'https://www.livemint.com/news/world/india-maldives-relations-officials-to-review-community-development-projects-funding-by-indian-grant-11716772287309.html'}, {'Title': 'Earthquake today: 6.6 magnitude tremor hits Tonga but no reports of Tsunami', 'Link': 'https://www.livemint.com/news/world/earthquake-today-6-6-magnitude-tremor-hits-tonga-but-no-reports-of-tsunami-risk-or-damage-11716774292836.html'}, {'Title': 'Israel airstrike hits refugee camp in Gaza; kills 35 including children', 'Link': 'https://www.livemint.com/news/world/israel-airstrike-hits-refugee-camp-in-gaza-kills-35-including-children-what-we-know-so-far-11716773354143.html'}, {'Title': 'China, Japan and South Korea Start First Summit Talks Since 2019', 'Link': 'https://www.livemint.com/news/world/china-japan-and-south-korea-start-first-summit-talks-since-2019-11716773242082.html'}]\n"
     ]
    }
   ],
   "source": [
    "print(articles)"
   ]
  },
  {
   "cell_type": "code",
   "execution_count": 8,
   "metadata": {},
   "outputs": [],
   "source": [
    "# Convert the articles to a DataFrame\n",
    "df = pd.DataFrame(articles)"
   ]
  },
  {
   "cell_type": "code",
   "execution_count": 9,
   "metadata": {},
   "outputs": [
    {
     "name": "stdout",
     "output_type": "stream",
     "text": [
      "                                                Title  \\\n",
      "0   ‘India ready to offer support’: PM Modi on lan...   \n",
      "1   Israel-Gaza war: UN Security Council convenes ...   \n",
      "2   Netanyahu calls Israeli strike in Rafah a 'tra...   \n",
      "3   North Korea Rocket Explodes in Flight and Deal...   \n",
      "4   ABN Amro Buys German Bank Hauck & Aufhäuser Fr...   \n",
      "5   Russia will build Central Asia's first nuclear...   \n",
      "6   China’s Falling Emissions Signal Peak Carbon M...   \n",
      "7   Crypto Traders Eye Ether Record, Rising Volati...   \n",
      "8   Trump’s Historic Closing Arguments Will Be a ‘...   \n",
      "9   Israel Airstrike and Death of Egyptian Guard R...   \n",
      "10  Pakistan: Fire guts Khyber Pakhtunkhwa girls' ...   \n",
      "11  Russia to lift ban on Taliban, Lavrov says the...   \n",
      "12  Japan issues 'stay indoors' warning after miss...   \n",
      "13  ‘Outraged’: France's Emmanuel Macron slams Isr...   \n",
      "14  Papua New Guinea says more than 2,000 people b...   \n",
      "15  Prince Harry and Meghan Markle forge ‘closer t...   \n",
      "16  Officials to review Maldives community project...   \n",
      "17  Earthquake today: 6.6 magnitude tremor hits To...   \n",
      "18  Israel airstrike hits refugee camp in Gaza; ki...   \n",
      "19  China, Japan and South Korea Start First Summi...   \n",
      "\n",
      "                                                 Link  \n",
      "0   https://www.livemint.com/news/world/pm-modi-ex...  \n",
      "1   https://www.livemint.com/news/world/israel-gaz...  \n",
      "2   https://www.livemint.com/news/world/israel-gaz...  \n",
      "3   https://www.livemint.com/news/world/north-kore...  \n",
      "4   https://www.livemint.com/news/world/abn-amro-b...  \n",
      "5   https://www.livemint.com/news/world/russia-wil...  \n",
      "6   https://www.livemint.com/news/world/chinas-fal...  \n",
      "7   https://www.livemint.com/news/world/crypto-tra...  \n",
      "8   https://www.livemint.com/news/world/trumps-his...  \n",
      "9   https://www.livemint.com/news/world/israel-air...  \n",
      "10  https://www.livemint.com/news/world/pakistan-n...  \n",
      "11  https://www.livemint.com/news/world/russia-to-...  \n",
      "12  https://www.livemint.com/news/world/stay-indoo...  \n",
      "13  https://www.livemint.com/news/world/israel-air...  \n",
      "14  https://www.livemint.com/news/world/papua-new-...  \n",
      "15  https://www.livemint.com/news/world/prince-har...  \n",
      "16  https://www.livemint.com/news/world/india-mald...  \n",
      "17  https://www.livemint.com/news/world/earthquake...  \n",
      "18  https://www.livemint.com/news/world/israel-air...  \n",
      "19  https://www.livemint.com/news/world/china-japa...  \n"
     ]
    }
   ],
   "source": [
    "# Display the DataFrame\n",
    "print(df)"
   ]
  },
  {
   "cell_type": "code",
   "execution_count": 10,
   "metadata": {},
   "outputs": [
    {
     "data": {
      "application/vnd.plotly.v1+json": {
       "config": {
        "plotlyServerURL": "https://plot.ly"
       },
       "data": [
        {
         "alignmentgroup": "True",
         "hovertemplate": "Title=%{x}<br>count=%{y}<extra></extra>",
         "legendgroup": "",
         "marker": {
          "color": "#636efa",
          "pattern": {
           "shape": ""
          }
         },
         "name": "",
         "offsetgroup": "",
         "orientation": "v",
         "showlegend": false,
         "textposition": "auto",
         "type": "bar",
         "x": [
          "‘India ready to offer support’: PM Modi on landslide tragedy in Papua New Guinea",
          "Israel-Gaza war: UN Security Council convenes emergency meet after Rafah strike",
          "Netanyahu calls Israeli strike in Rafah a 'tragic mistake' that killed 45 people",
          "North Korea Rocket Explodes in Flight and Deals Blow to Kim’s Satellite Plans",
          "ABN Amro Buys German Bank Hauck & Aufhäuser From China’s Fosun",
          "Russia will build Central Asia's first nuclear power plant in an agreement with Uzbekistan",
          "China’s Falling Emissions Signal Peak Carbon May Already Be Here",
          "Crypto Traders Eye Ether Record, Rising Volatility From US ETF Hype",
          "Trump’s Historic Closing Arguments Will Be a ‘Tale of Two Cases’",
          "Israel Airstrike and Death of Egyptian Guard Ratchet Up Tensions",
          "Pakistan: Fire guts Khyber Pakhtunkhwa girls' high school, 1400 students rescued",
          "Russia to lift ban on Taliban, Lavrov says they are ‘real power’ in Afghanistan",
          "Japan issues 'stay indoors' warning after missile 'fired', North Korea clarifies",
          "‘Outraged’: France's Emmanuel Macron slams Israel over attack on Rafah",
          "Papua New Guinea says more than 2,000 people buried in landslide",
          "Prince Harry and Meghan Markle forge ‘closer ties’ with two royal family members",
          "Officials to review Maldives community projects funded by Indian grants",
          "Earthquake today: 6.6 magnitude tremor hits Tonga but no reports of Tsunami",
          "Israel airstrike hits refugee camp in Gaza; kills 35 including children",
          "China, Japan and South Korea Start First Summit Talks Since 2019"
         ],
         "xaxis": "x",
         "y": [
          1,
          1,
          1,
          1,
          1,
          1,
          1,
          1,
          1,
          1,
          1,
          1,
          1,
          1,
          1,
          1,
          1,
          1,
          1,
          1
         ],
         "yaxis": "y"
        }
       ],
       "layout": {
        "barmode": "relative",
        "legend": {
         "tracegroupgap": 0
        },
        "template": {
         "data": {
          "bar": [
           {
            "error_x": {
             "color": "#2a3f5f"
            },
            "error_y": {
             "color": "#2a3f5f"
            },
            "marker": {
             "line": {
              "color": "#E5ECF6",
              "width": 0.5
             },
             "pattern": {
              "fillmode": "overlay",
              "size": 10,
              "solidity": 0.2
             }
            },
            "type": "bar"
           }
          ],
          "barpolar": [
           {
            "marker": {
             "line": {
              "color": "#E5ECF6",
              "width": 0.5
             },
             "pattern": {
              "fillmode": "overlay",
              "size": 10,
              "solidity": 0.2
             }
            },
            "type": "barpolar"
           }
          ],
          "carpet": [
           {
            "aaxis": {
             "endlinecolor": "#2a3f5f",
             "gridcolor": "white",
             "linecolor": "white",
             "minorgridcolor": "white",
             "startlinecolor": "#2a3f5f"
            },
            "baxis": {
             "endlinecolor": "#2a3f5f",
             "gridcolor": "white",
             "linecolor": "white",
             "minorgridcolor": "white",
             "startlinecolor": "#2a3f5f"
            },
            "type": "carpet"
           }
          ],
          "choropleth": [
           {
            "colorbar": {
             "outlinewidth": 0,
             "ticks": ""
            },
            "type": "choropleth"
           }
          ],
          "contour": [
           {
            "colorbar": {
             "outlinewidth": 0,
             "ticks": ""
            },
            "colorscale": [
             [
              0,
              "#0d0887"
             ],
             [
              0.1111111111111111,
              "#46039f"
             ],
             [
              0.2222222222222222,
              "#7201a8"
             ],
             [
              0.3333333333333333,
              "#9c179e"
             ],
             [
              0.4444444444444444,
              "#bd3786"
             ],
             [
              0.5555555555555556,
              "#d8576b"
             ],
             [
              0.6666666666666666,
              "#ed7953"
             ],
             [
              0.7777777777777778,
              "#fb9f3a"
             ],
             [
              0.8888888888888888,
              "#fdca26"
             ],
             [
              1,
              "#f0f921"
             ]
            ],
            "type": "contour"
           }
          ],
          "contourcarpet": [
           {
            "colorbar": {
             "outlinewidth": 0,
             "ticks": ""
            },
            "type": "contourcarpet"
           }
          ],
          "heatmap": [
           {
            "colorbar": {
             "outlinewidth": 0,
             "ticks": ""
            },
            "colorscale": [
             [
              0,
              "#0d0887"
             ],
             [
              0.1111111111111111,
              "#46039f"
             ],
             [
              0.2222222222222222,
              "#7201a8"
             ],
             [
              0.3333333333333333,
              "#9c179e"
             ],
             [
              0.4444444444444444,
              "#bd3786"
             ],
             [
              0.5555555555555556,
              "#d8576b"
             ],
             [
              0.6666666666666666,
              "#ed7953"
             ],
             [
              0.7777777777777778,
              "#fb9f3a"
             ],
             [
              0.8888888888888888,
              "#fdca26"
             ],
             [
              1,
              "#f0f921"
             ]
            ],
            "type": "heatmap"
           }
          ],
          "heatmapgl": [
           {
            "colorbar": {
             "outlinewidth": 0,
             "ticks": ""
            },
            "colorscale": [
             [
              0,
              "#0d0887"
             ],
             [
              0.1111111111111111,
              "#46039f"
             ],
             [
              0.2222222222222222,
              "#7201a8"
             ],
             [
              0.3333333333333333,
              "#9c179e"
             ],
             [
              0.4444444444444444,
              "#bd3786"
             ],
             [
              0.5555555555555556,
              "#d8576b"
             ],
             [
              0.6666666666666666,
              "#ed7953"
             ],
             [
              0.7777777777777778,
              "#fb9f3a"
             ],
             [
              0.8888888888888888,
              "#fdca26"
             ],
             [
              1,
              "#f0f921"
             ]
            ],
            "type": "heatmapgl"
           }
          ],
          "histogram": [
           {
            "marker": {
             "pattern": {
              "fillmode": "overlay",
              "size": 10,
              "solidity": 0.2
             }
            },
            "type": "histogram"
           }
          ],
          "histogram2d": [
           {
            "colorbar": {
             "outlinewidth": 0,
             "ticks": ""
            },
            "colorscale": [
             [
              0,
              "#0d0887"
             ],
             [
              0.1111111111111111,
              "#46039f"
             ],
             [
              0.2222222222222222,
              "#7201a8"
             ],
             [
              0.3333333333333333,
              "#9c179e"
             ],
             [
              0.4444444444444444,
              "#bd3786"
             ],
             [
              0.5555555555555556,
              "#d8576b"
             ],
             [
              0.6666666666666666,
              "#ed7953"
             ],
             [
              0.7777777777777778,
              "#fb9f3a"
             ],
             [
              0.8888888888888888,
              "#fdca26"
             ],
             [
              1,
              "#f0f921"
             ]
            ],
            "type": "histogram2d"
           }
          ],
          "histogram2dcontour": [
           {
            "colorbar": {
             "outlinewidth": 0,
             "ticks": ""
            },
            "colorscale": [
             [
              0,
              "#0d0887"
             ],
             [
              0.1111111111111111,
              "#46039f"
             ],
             [
              0.2222222222222222,
              "#7201a8"
             ],
             [
              0.3333333333333333,
              "#9c179e"
             ],
             [
              0.4444444444444444,
              "#bd3786"
             ],
             [
              0.5555555555555556,
              "#d8576b"
             ],
             [
              0.6666666666666666,
              "#ed7953"
             ],
             [
              0.7777777777777778,
              "#fb9f3a"
             ],
             [
              0.8888888888888888,
              "#fdca26"
             ],
             [
              1,
              "#f0f921"
             ]
            ],
            "type": "histogram2dcontour"
           }
          ],
          "mesh3d": [
           {
            "colorbar": {
             "outlinewidth": 0,
             "ticks": ""
            },
            "type": "mesh3d"
           }
          ],
          "parcoords": [
           {
            "line": {
             "colorbar": {
              "outlinewidth": 0,
              "ticks": ""
             }
            },
            "type": "parcoords"
           }
          ],
          "pie": [
           {
            "automargin": true,
            "type": "pie"
           }
          ],
          "scatter": [
           {
            "fillpattern": {
             "fillmode": "overlay",
             "size": 10,
             "solidity": 0.2
            },
            "type": "scatter"
           }
          ],
          "scatter3d": [
           {
            "line": {
             "colorbar": {
              "outlinewidth": 0,
              "ticks": ""
             }
            },
            "marker": {
             "colorbar": {
              "outlinewidth": 0,
              "ticks": ""
             }
            },
            "type": "scatter3d"
           }
          ],
          "scattercarpet": [
           {
            "marker": {
             "colorbar": {
              "outlinewidth": 0,
              "ticks": ""
             }
            },
            "type": "scattercarpet"
           }
          ],
          "scattergeo": [
           {
            "marker": {
             "colorbar": {
              "outlinewidth": 0,
              "ticks": ""
             }
            },
            "type": "scattergeo"
           }
          ],
          "scattergl": [
           {
            "marker": {
             "colorbar": {
              "outlinewidth": 0,
              "ticks": ""
             }
            },
            "type": "scattergl"
           }
          ],
          "scattermapbox": [
           {
            "marker": {
             "colorbar": {
              "outlinewidth": 0,
              "ticks": ""
             }
            },
            "type": "scattermapbox"
           }
          ],
          "scatterpolar": [
           {
            "marker": {
             "colorbar": {
              "outlinewidth": 0,
              "ticks": ""
             }
            },
            "type": "scatterpolar"
           }
          ],
          "scatterpolargl": [
           {
            "marker": {
             "colorbar": {
              "outlinewidth": 0,
              "ticks": ""
             }
            },
            "type": "scatterpolargl"
           }
          ],
          "scatterternary": [
           {
            "marker": {
             "colorbar": {
              "outlinewidth": 0,
              "ticks": ""
             }
            },
            "type": "scatterternary"
           }
          ],
          "surface": [
           {
            "colorbar": {
             "outlinewidth": 0,
             "ticks": ""
            },
            "colorscale": [
             [
              0,
              "#0d0887"
             ],
             [
              0.1111111111111111,
              "#46039f"
             ],
             [
              0.2222222222222222,
              "#7201a8"
             ],
             [
              0.3333333333333333,
              "#9c179e"
             ],
             [
              0.4444444444444444,
              "#bd3786"
             ],
             [
              0.5555555555555556,
              "#d8576b"
             ],
             [
              0.6666666666666666,
              "#ed7953"
             ],
             [
              0.7777777777777778,
              "#fb9f3a"
             ],
             [
              0.8888888888888888,
              "#fdca26"
             ],
             [
              1,
              "#f0f921"
             ]
            ],
            "type": "surface"
           }
          ],
          "table": [
           {
            "cells": {
             "fill": {
              "color": "#EBF0F8"
             },
             "line": {
              "color": "white"
             }
            },
            "header": {
             "fill": {
              "color": "#C8D4E3"
             },
             "line": {
              "color": "white"
             }
            },
            "type": "table"
           }
          ]
         },
         "layout": {
          "annotationdefaults": {
           "arrowcolor": "#2a3f5f",
           "arrowhead": 0,
           "arrowwidth": 1
          },
          "autotypenumbers": "strict",
          "coloraxis": {
           "colorbar": {
            "outlinewidth": 0,
            "ticks": ""
           }
          },
          "colorscale": {
           "diverging": [
            [
             0,
             "#8e0152"
            ],
            [
             0.1,
             "#c51b7d"
            ],
            [
             0.2,
             "#de77ae"
            ],
            [
             0.3,
             "#f1b6da"
            ],
            [
             0.4,
             "#fde0ef"
            ],
            [
             0.5,
             "#f7f7f7"
            ],
            [
             0.6,
             "#e6f5d0"
            ],
            [
             0.7,
             "#b8e186"
            ],
            [
             0.8,
             "#7fbc41"
            ],
            [
             0.9,
             "#4d9221"
            ],
            [
             1,
             "#276419"
            ]
           ],
           "sequential": [
            [
             0,
             "#0d0887"
            ],
            [
             0.1111111111111111,
             "#46039f"
            ],
            [
             0.2222222222222222,
             "#7201a8"
            ],
            [
             0.3333333333333333,
             "#9c179e"
            ],
            [
             0.4444444444444444,
             "#bd3786"
            ],
            [
             0.5555555555555556,
             "#d8576b"
            ],
            [
             0.6666666666666666,
             "#ed7953"
            ],
            [
             0.7777777777777778,
             "#fb9f3a"
            ],
            [
             0.8888888888888888,
             "#fdca26"
            ],
            [
             1,
             "#f0f921"
            ]
           ],
           "sequentialminus": [
            [
             0,
             "#0d0887"
            ],
            [
             0.1111111111111111,
             "#46039f"
            ],
            [
             0.2222222222222222,
             "#7201a8"
            ],
            [
             0.3333333333333333,
             "#9c179e"
            ],
            [
             0.4444444444444444,
             "#bd3786"
            ],
            [
             0.5555555555555556,
             "#d8576b"
            ],
            [
             0.6666666666666666,
             "#ed7953"
            ],
            [
             0.7777777777777778,
             "#fb9f3a"
            ],
            [
             0.8888888888888888,
             "#fdca26"
            ],
            [
             1,
             "#f0f921"
            ]
           ]
          },
          "colorway": [
           "#636efa",
           "#EF553B",
           "#00cc96",
           "#ab63fa",
           "#FFA15A",
           "#19d3f3",
           "#FF6692",
           "#B6E880",
           "#FF97FF",
           "#FECB52"
          ],
          "font": {
           "color": "#2a3f5f"
          },
          "geo": {
           "bgcolor": "white",
           "lakecolor": "white",
           "landcolor": "#E5ECF6",
           "showlakes": true,
           "showland": true,
           "subunitcolor": "white"
          },
          "hoverlabel": {
           "align": "left"
          },
          "hovermode": "closest",
          "mapbox": {
           "style": "light"
          },
          "paper_bgcolor": "white",
          "plot_bgcolor": "#E5ECF6",
          "polar": {
           "angularaxis": {
            "gridcolor": "white",
            "linecolor": "white",
            "ticks": ""
           },
           "bgcolor": "#E5ECF6",
           "radialaxis": {
            "gridcolor": "white",
            "linecolor": "white",
            "ticks": ""
           }
          },
          "scene": {
           "xaxis": {
            "backgroundcolor": "#E5ECF6",
            "gridcolor": "white",
            "gridwidth": 2,
            "linecolor": "white",
            "showbackground": true,
            "ticks": "",
            "zerolinecolor": "white"
           },
           "yaxis": {
            "backgroundcolor": "#E5ECF6",
            "gridcolor": "white",
            "gridwidth": 2,
            "linecolor": "white",
            "showbackground": true,
            "ticks": "",
            "zerolinecolor": "white"
           },
           "zaxis": {
            "backgroundcolor": "#E5ECF6",
            "gridcolor": "white",
            "gridwidth": 2,
            "linecolor": "white",
            "showbackground": true,
            "ticks": "",
            "zerolinecolor": "white"
           }
          },
          "shapedefaults": {
           "line": {
            "color": "#2a3f5f"
           }
          },
          "ternary": {
           "aaxis": {
            "gridcolor": "white",
            "linecolor": "white",
            "ticks": ""
           },
           "baxis": {
            "gridcolor": "white",
            "linecolor": "white",
            "ticks": ""
           },
           "bgcolor": "#E5ECF6",
           "caxis": {
            "gridcolor": "white",
            "linecolor": "white",
            "ticks": ""
           }
          },
          "title": {
           "x": 0.05
          },
          "xaxis": {
           "automargin": true,
           "gridcolor": "white",
           "linecolor": "white",
           "ticks": "",
           "title": {
            "standoff": 15
           },
           "zerolinecolor": "white",
           "zerolinewidth": 2
          },
          "yaxis": {
           "automargin": true,
           "gridcolor": "white",
           "linecolor": "white",
           "ticks": "",
           "title": {
            "standoff": 15
           },
           "zerolinecolor": "white",
           "zerolinewidth": 2
          }
         }
        },
        "title": {
         "text": "Number of Articles by Title"
        },
        "xaxis": {
         "anchor": "y",
         "domain": [
          0,
          1
         ],
         "title": {
          "text": "Title"
         }
        },
        "yaxis": {
         "anchor": "x",
         "domain": [
          0,
          1
         ],
         "title": {
          "text": "count"
         }
        }
       }
      }
     },
     "metadata": {},
     "output_type": "display_data"
    }
   ],
   "source": [
    "# Visualize the data (e.g., the number of articles)\n",
    "if not df.empty:\n",
    "    fig = px.bar(df, x='Title', title='Number of Articles by Title')\n",
    "    fig.show()\n",
    "else:\n",
    "    print(\"No articles found.\")\n"
   ]
  }
 ],
 "metadata": {
  "kernelspec": {
   "display_name": "Python 3",
   "language": "python",
   "name": "python3"
  },
  "language_info": {
   "codemirror_mode": {
    "name": "ipython",
    "version": 3
   },
   "file_extension": ".py",
   "mimetype": "text/x-python",
   "name": "python",
   "nbconvert_exporter": "python",
   "pygments_lexer": "ipython3",
   "version": "3.9.13"
  }
 },
 "nbformat": 4,
 "nbformat_minor": 2
}
